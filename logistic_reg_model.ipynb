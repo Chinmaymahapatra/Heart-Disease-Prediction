{
 "cells": [
  {
   "cell_type": "code",
   "execution_count": 1,
   "metadata": {},
   "outputs": [],
   "source": [
    "import pandas as pd\n",
    "import pylab as pl\n",
    "import numpy as np\n",
    "import scipy.optimize as opt\n",
    "from sklearn import preprocessing\n",
    "'exec(% matplotlib inline)'\n",
    "import matplotlib.pyplot as plt\n",
    "import matplotlib.mlab as mlab\n",
    "import seaborn as sns"
   ]
  },
  {
   "cell_type": "code",
   "execution_count": 2,
   "metadata": {},
   "outputs": [
    {
     "name": "stdout",
     "output_type": "stream",
     "text": [
      "      male  age  education  currentSmoker  cigsPerDay  BPMeds  \\\n",
      "0        1   39        4.0              0         0.0     0.0   \n",
      "1        0   46        2.0              0         0.0     0.0   \n",
      "2        1   48        1.0              1        20.0     0.0   \n",
      "3        0   61        3.0              1        30.0     0.0   \n",
      "4        0   46        3.0              1        23.0     0.0   \n",
      "...    ...  ...        ...            ...         ...     ...   \n",
      "4235     0   48        2.0              1        20.0     NaN   \n",
      "4236     0   44        1.0              1        15.0     0.0   \n",
      "4237     0   52        2.0              0         0.0     0.0   \n",
      "4238     1   40        3.0              0         0.0     0.0   \n",
      "4239     0   39        3.0              1        30.0     0.0   \n",
      "\n",
      "      prevalentStroke  prevalentHyp  diabetes  totChol  sysBP  diaBP    BMI  \\\n",
      "0                   0             0         0    195.0  106.0   70.0  26.97   \n",
      "1                   0             0         0    250.0  121.0   81.0  28.73   \n",
      "2                   0             0         0    245.0  127.5   80.0  25.34   \n",
      "3                   0             1         0    225.0  150.0   95.0  28.58   \n",
      "4                   0             0         0    285.0  130.0   84.0  23.10   \n",
      "...               ...           ...       ...      ...    ...    ...    ...   \n",
      "4235                0             0         0    248.0  131.0   72.0  22.00   \n",
      "4236                0             0         0    210.0  126.5   87.0  19.16   \n",
      "4237                0             0         0    269.0  133.5   83.0  21.47   \n",
      "4238                0             1         0    185.0  141.0   98.0  25.60   \n",
      "4239                0             0         0    196.0  133.0   86.0  20.91   \n",
      "\n",
      "      heartRate  glucose  TenYearCHD  \n",
      "0          80.0     77.0           0  \n",
      "1          95.0     76.0           0  \n",
      "2          75.0     70.0           0  \n",
      "3          65.0    103.0           1  \n",
      "4          85.0     85.0           0  \n",
      "...         ...      ...         ...  \n",
      "4235       84.0     86.0           0  \n",
      "4236       86.0      NaN           0  \n",
      "4237       80.0    107.0           0  \n",
      "4238       67.0     72.0           0  \n",
      "4239       85.0     80.0           0  \n",
      "\n",
      "[4240 rows x 16 columns]\n"
     ]
    }
   ],
   "source": [
    "dataset= pd.read_csv(\"dataset.csv\")\n",
    "print(dataset)"
   ]
  },
  {
   "cell_type": "code",
   "execution_count": 3,
   "metadata": {},
   "outputs": [
    {
     "name": "stdout",
     "output_type": "stream",
     "text": [
      "      Sex_male  age  currentSmoker  cigsPerDay  BPMeds  prevalentStroke  \\\n",
      "0            1   39              0         0.0     0.0                0   \n",
      "1            0   46              0         0.0     0.0                0   \n",
      "2            1   48              1        20.0     0.0                0   \n",
      "3            0   61              1        30.0     0.0                0   \n",
      "4            0   46              1        23.0     0.0                0   \n",
      "...        ...  ...            ...         ...     ...              ...   \n",
      "4235         0   48              1        20.0     NaN                0   \n",
      "4236         0   44              1        15.0     0.0                0   \n",
      "4237         0   52              0         0.0     0.0                0   \n",
      "4238         1   40              0         0.0     0.0                0   \n",
      "4239         0   39              1        30.0     0.0                0   \n",
      "\n",
      "      prevalentHyp  diabetes  totChol  sysBP  diaBP    BMI  heartRate  \\\n",
      "0                0         0    195.0  106.0   70.0  26.97       80.0   \n",
      "1                0         0    250.0  121.0   81.0  28.73       95.0   \n",
      "2                0         0    245.0  127.5   80.0  25.34       75.0   \n",
      "3                1         0    225.0  150.0   95.0  28.58       65.0   \n",
      "4                0         0    285.0  130.0   84.0  23.10       85.0   \n",
      "...            ...       ...      ...    ...    ...    ...        ...   \n",
      "4235             0         0    248.0  131.0   72.0  22.00       84.0   \n",
      "4236             0         0    210.0  126.5   87.0  19.16       86.0   \n",
      "4237             0         0    269.0  133.5   83.0  21.47       80.0   \n",
      "4238             1         0    185.0  141.0   98.0  25.60       67.0   \n",
      "4239             0         0    196.0  133.0   86.0  20.91       85.0   \n",
      "\n",
      "      glucose  TenYearCHD  \n",
      "0        77.0           0  \n",
      "1        76.0           0  \n",
      "2        70.0           0  \n",
      "3       103.0           1  \n",
      "4        85.0           0  \n",
      "...       ...         ...  \n",
      "4235     86.0           0  \n",
      "4236      NaN           0  \n",
      "4237    107.0           0  \n",
      "4238     72.0           0  \n",
      "4239     80.0           0  \n",
      "\n",
      "[4240 rows x 15 columns]\n"
     ]
    }
   ],
   "source": [
    "dataset.drop(['education'], inplace = True, axis = 1)\n",
    "dataset.rename(columns ={'male':'Sex_male'}, inplace = True)\n",
    "print(dataset)"
   ]
  },
  {
   "cell_type": "code",
   "execution_count": 4,
   "metadata": {},
   "outputs": [
    {
     "name": "stdout",
     "output_type": "stream",
     "text": [
      "   Sex_male  age  currentSmoker  cigsPerDay  BPMeds  prevalentStroke  \\\n",
      "0         1   39              0         0.0     0.0                0   \n",
      "1         0   46              0         0.0     0.0                0   \n",
      "2         1   48              1        20.0     0.0                0   \n",
      "3         0   61              1        30.0     0.0                0   \n",
      "4         0   46              1        23.0     0.0                0   \n",
      "\n",
      "   prevalentHyp  diabetes  totChol  sysBP  diaBP    BMI  heartRate  glucose  \\\n",
      "0             0         0    195.0  106.0   70.0  26.97       80.0     77.0   \n",
      "1             0         0    250.0  121.0   81.0  28.73       95.0     76.0   \n",
      "2             0         0    245.0  127.5   80.0  25.34       75.0     70.0   \n",
      "3             1         0    225.0  150.0   95.0  28.58       65.0    103.0   \n",
      "4             0         0    285.0  130.0   84.0  23.10       85.0     85.0   \n",
      "\n",
      "   TenYearCHD  \n",
      "0           0  \n",
      "1           0  \n",
      "2           0  \n",
      "3           1  \n",
      "4           0   (3751, 15)\n",
      "TenYearCHD\n",
      "0    3179\n",
      "1     572\n",
      "Name: count, dtype: int64\n"
     ]
    }
   ],
   "source": [
    "dataset.dropna(axis = 0, inplace = True)\n",
    "print(dataset.head(), dataset.shape)\n",
    "print(dataset.TenYearCHD.value_counts())\n"
   ]
  },
  {
   "cell_type": "code",
   "execution_count": 5,
   "metadata": {},
   "outputs": [],
   "source": [
    "X = dataset.iloc[:, :-1].values\n",
    "y = dataset.iloc[:, -1].values"
   ]
  },
  {
   "cell_type": "code",
   "execution_count": 6,
   "metadata": {},
   "outputs": [
    {
     "name": "stdout",
     "output_type": "stream",
     "text": [
      "[[  1.    39.     0.   ...  26.97  80.    77.  ]\n",
      " [  0.    46.     0.   ...  28.73  95.    76.  ]\n",
      " [  1.    48.     1.   ...  25.34  75.    70.  ]\n",
      " ...\n",
      " [  0.    52.     0.   ...  21.47  80.   107.  ]\n",
      " [  1.    40.     0.   ...  25.6   67.    72.  ]\n",
      " [  0.    39.     1.   ...  20.91  85.    80.  ]]\n"
     ]
    }
   ],
   "source": [
    "print(X)"
   ]
  },
  {
   "cell_type": "code",
   "execution_count": 7,
   "metadata": {},
   "outputs": [
    {
     "name": "stdout",
     "output_type": "stream",
     "text": [
      "[0 0 0 ... 0 0 0]\n"
     ]
    }
   ],
   "source": [
    "print(y)"
   ]
  },
  {
   "cell_type": "code",
   "execution_count": 8,
   "metadata": {},
   "outputs": [
    {
     "name": "stdout",
     "output_type": "stream",
     "text": [
      "Train set: (2625, 14) (2625,)\n",
      "Test set: (1126, 14) (1126,)\n"
     ]
    }
   ],
   "source": [
    "from sklearn.model_selection import train_test_split\n",
    "X_train, X_test, y_train, y_test = train_test_split(X, y, test_size = 0.3, random_state = 4)\n",
    "print ('Train set:', X_train.shape,  y_train.shape)\n",
    "print ('Test set:', X_test.shape,  y_test.shape)"
   ]
  },
  {
   "cell_type": "code",
   "execution_count": 9,
   "metadata": {},
   "outputs": [],
   "source": [
    "from sklearn.preprocessing import StandardScaler\n",
    "sc = StandardScaler()\n",
    "X_train = sc.fit_transform(X_train)\n",
    "X_test = sc.transform(X_test)"
   ]
  },
  {
   "cell_type": "code",
   "execution_count": 10,
   "metadata": {},
   "outputs": [
    {
     "name": "stdout",
     "output_type": "stream",
     "text": [
      "[[ 1.12728046 -0.65013687 -0.95637902 ...  0.58534896 -0.97449083\n",
      "  -0.20227508]\n",
      " [ 1.12728046 -1.35336163 -0.95637902 ...  0.79435934  0.52675438\n",
      "  -0.54055465]\n",
      " [ 1.12728046  1.10792502 -0.95637902 ... -0.16462945 -2.64254107\n",
      "  -0.03313529]\n",
      " ...\n",
      " [ 1.12728046 -0.18132036 -0.95637902 ... -0.17446524  0.35994935\n",
      "  -0.20227508]\n",
      " [ 1.12728046 -0.88454512  1.04561056 ... -0.63920596 -0.89108832\n",
      "  -1.047974  ]\n",
      " [ 1.12728046 -0.767341   -0.95637902 ...  1.51728936 -1.05789335\n",
      "   0.0514346 ]]\n"
     ]
    }
   ],
   "source": [
    "print(X_train)"
   ]
  },
  {
   "cell_type": "code",
   "execution_count": 11,
   "metadata": {},
   "outputs": [
    {
     "name": "stdout",
     "output_type": "stream",
     "text": [
      "[[-0.88709069  1.81114978 -0.95637902 ...  0.89271717  0.35994935\n",
      "   0.47428407]\n",
      " [-0.88709069 -1.2361575  -0.95637902 ... -0.39085245 -0.7242833\n",
      "   0.34742923]\n",
      " [-0.88709069 -1.82217813 -0.95637902 ... -1.23672975 -0.7242833\n",
      "   0.0514346 ]\n",
      " ...\n",
      " [-0.88709069  1.34233328  1.04561056 ...  3.10085035 -1.55830842\n",
      "  -0.15999013]\n",
      " [-0.88709069  0.75631265 -0.95637902 ...  0.12552613  1.52758452\n",
      "   0.0514346 ]\n",
      " [-0.88709069 -0.767341    1.04561056 ... -1.17279716  1.19397447\n",
      "   0.55885396]]\n"
     ]
    }
   ],
   "source": [
    "print(X_test)"
   ]
  },
  {
   "cell_type": "code",
   "execution_count": 12,
   "metadata": {},
   "outputs": [
    {
     "data": {
      "image/png": "[encoded data removed]",
      "text/plain": [
       "<Figure size 700x500 with 1 Axes>"
      ]
     },
     "metadata": {},
     "output_type": "display_data"
    }
   ],
   "source": [
    "plt.figure(figsize=(7, 5))\n",
    "sns.countplot(x='TenYearCHD', data=dataset, palette=\"BuGn_r\")\n",
    "plt.show()"
   ]
  },
  {
   "cell_type": "code",
   "execution_count": 13,
   "metadata": {},
   "outputs": [
    {
     "data": {
      "image/png": "[encoded data removed]",
      "text/plain": [
       "<Figure size 640x480 with 1 Axes>"
      ]
     },
     "metadata": {},
     "output_type": "display_data"
    }
   ],
   "source": [
    "laste = dataset['TenYearCHD'].plot()\n",
    "plt.show(laste)"
   ]
  },
  {
   "cell_type": "code",
   "execution_count": 15,
   "metadata": {},
   "outputs": [],
   "source": [
    "from sklearn.linear_model import LogisticRegression\n",
    "classifier = LogisticRegression()\n",
    "classifier.fit(X_train, y_train)\n",
    "y_pred = classifier.predict(X_test)"
   ]
  },
  {
   "cell_type": "code",
   "execution_count": 16,
   "metadata": {},
   "outputs": [
    {
     "name": "stdout",
     "output_type": "stream",
     "text": [
      "[[0 0]\n",
      " [0 0]\n",
      " [0 0]\n",
      " ...\n",
      " [0 0]\n",
      " [0 0]\n",
      " [0 0]]\n"
     ]
    }
   ],
   "source": [
    "y_pred = classifier.predict(X_test)\n",
    "print(np.concatenate((y_pred.reshape(len(y_pred),1), y_test.reshape(len(y_test),1)),1))"
   ]
  },
  {
   "cell_type": "code",
   "execution_count": 18,
   "metadata": {},
   "outputs": [
    {
     "name": "stdout",
     "output_type": "stream",
     "text": [
      "Accuracy of the model is = 0.8525754884547069\n"
     ]
    }
   ],
   "source": [
    "from sklearn.metrics import accuracy_score\n",
    "print('Accuracy of the model is =', accuracy_score(y_test, y_pred))"
   ]
  },
  {
   "cell_type": "code",
   "execution_count": 19,
   "metadata": {},
   "outputs": [
    {
     "data": {
      "image/png": "[encoded data removed]",
      "text/plain": [
       "<Figure size 800x500 with 2 Axes>"
      ]
     },
     "metadata": {},
     "output_type": "display_data"
    },
    {
     "name": "stdout",
     "output_type": "stream",
     "text": [
      "The details for confusion matrix is =\n",
      "              precision    recall  f1-score   support\n",
      "\n",
      "           0       0.86      0.99      0.92       951\n",
      "           1       0.70      0.09      0.16       175\n",
      "\n",
      "    accuracy                           0.85      1126\n",
      "   macro avg       0.78      0.54      0.54      1126\n",
      "weighted avg       0.83      0.85      0.80      1126\n",
      "\n"
     ]
    }
   ],
   "source": [
    "from sklearn.metrics import confusion_matrix, classification_report\n",
    "cm = confusion_matrix(y_test, y_pred)\n",
    "conf_matrix = pd.DataFrame(data = cm, columns = ['Predicted:0', 'Predicted:1'], index =['Actual:0', 'Actual:1'])\n",
    "\n",
    "plt.figure(figsize = (8, 5))\n",
    "sns.heatmap(conf_matrix, annot = True, fmt = 'd', cmap = \"Greens\")\n",
    "\n",
    "plt.show()\n",
    "print('The details for confusion matrix is =')\n",
    "print (classification_report(y_test, y_pred))\n"
   ]
  }
 ],
 "metadata": {
  "kernelspec": {
   "display_name": "Python 3",
   "language": "python",
   "name": "python3"
  },
  "language_info": {
   "codemirror_mode": {
    "name": "ipython",
    "version": 3
   },
   "file_extension": ".py",
   "mimetype": "text/x-python",
   "name": "python",
   "nbconvert_exporter": "python",
   "pygments_lexer": "ipython3",
   "version": "3.11.5"
  }
 },
 "nbformat": 4,
 "nbformat_minor": 2
}
